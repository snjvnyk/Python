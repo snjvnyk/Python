{
  "nbformat": 4,
  "nbformat_minor": 0,
  "metadata": {
    "colab": {
      "provenance": []
    },
    "kernelspec": {
      "name": "python3",
      "display_name": "Python 3"
    },
    "language_info": {
      "name": "python"
    }
  },
  "cells": [
    {
      "cell_type": "code",
      "source": [
        "!git clone https://github.com/bhargav-velisetti/flink_examples"
      ],
      "metadata": {
        "id": "BMVxL3kKul8Q",
        "colab": {
          "base_uri": "https://localhost:8080/"
        },
        "outputId": "f0266f7d-b8aa-4601-f657-dac807bbad98"
      },
      "execution_count": null,
      "outputs": [
        {
          "output_type": "stream",
          "name": "stdout",
          "text": [
            "Cloning into 'flink_examples'...\n",
            "remote: Enumerating objects: 187, done.\u001b[K\n",
            "remote: Counting objects: 100% (187/187), done.\u001b[K\n",
            "remote: Compressing objects: 100% (112/112), done.\u001b[K\n",
            "remote: Total 187 (delta 56), reused 148 (delta 32), pack-reused 0\u001b[K\n",
            "Receiving objects: 100% (187/187), 57.73 KiB | 609.00 KiB/s, done.\n",
            "Resolving deltas: 100% (56/56), done.\n"
          ]
        }
      ]
    },
    {
      "cell_type": "code",
      "source": [
        "!git clone https://github.com/bhargav-velisetti/apache_beam_examples_java/"
      ],
      "metadata": {
        "colab": {
          "base_uri": "https://localhost:8080/"
        },
        "id": "2N_qNOpWd8HM",
        "outputId": "dd6a4538-0751-4a9d-e150-e963daa6f130"
      },
      "execution_count": null,
      "outputs": [
        {
          "output_type": "stream",
          "name": "stdout",
          "text": [
            "Cloning into 'apache_beam_examples_java'...\n",
            "remote: Enumerating objects: 179, done.\u001b[K\n",
            "remote: Counting objects:   0% (1/179)\u001b[K\rremote: Counting objects:   1% (2/179)\u001b[K\rremote: Counting objects:   2% (4/179)\u001b[K\rremote: Counting objects:   3% (6/179)\u001b[K\rremote: Counting objects:   4% (8/179)\u001b[K\rremote: Counting objects:   5% (9/179)\u001b[K\rremote: Counting objects:   6% (11/179)\u001b[K\rremote: Counting objects:   7% (13/179)\u001b[K\rremote: Counting objects:   8% (15/179)\u001b[K\rremote: Counting objects:   9% (17/179)\u001b[K\rremote: Counting objects:  10% (18/179)\u001b[K\rremote: Counting objects:  11% (20/179)\u001b[K\rremote: Counting objects:  12% (22/179)\u001b[K\rremote: Counting objects:  13% (24/179)\u001b[K\rremote: Counting objects:  14% (26/179)\u001b[K\rremote: Counting objects:  15% (27/179)\u001b[K\rremote: Counting objects:  16% (29/179)\u001b[K\rremote: Counting objects:  17% (31/179)\u001b[K\rremote: Counting objects:  18% (33/179)\u001b[K\rremote: Counting objects:  19% (35/179)\u001b[K\rremote: Counting objects:  20% (36/179)\u001b[K\rremote: Counting objects:  21% (38/179)\u001b[K\rremote: Counting objects:  22% (40/179)\u001b[K\rremote: Counting objects:  23% (42/179)\u001b[K\rremote: Counting objects:  24% (43/179)\u001b[K\rremote: Counting objects:  25% (45/179)\u001b[K\rremote: Counting objects:  26% (47/179)\u001b[K\rremote: Counting objects:  27% (49/179)\u001b[K\rremote: Counting objects:  28% (51/179)\u001b[K\rremote: Counting objects:  29% (52/179)\u001b[K\rremote: Counting objects:  30% (54/179)\u001b[K\rremote: Counting objects:  31% (56/179)\u001b[K\rremote: Counting objects:  32% (58/179)\u001b[K\rremote: Counting objects:  33% (60/179)\u001b[K\rremote: Counting objects:  34% (61/179)\u001b[K\rremote: Counting objects:  35% (63/179)\u001b[K\rremote: Counting objects:  36% (65/179)\u001b[K\rremote: Counting objects:  37% (67/179)\u001b[K\rremote: Counting objects:  38% (69/179)\u001b[K\rremote: Counting objects:  39% (70/179)\u001b[K\rremote: Counting objects:  40% (72/179)\u001b[K\rremote: Counting objects:  41% (74/179)\u001b[K\rremote: Counting objects:  42% (76/179)\u001b[K\rremote: Counting objects:  43% (77/179)\u001b[K\rremote: Counting objects:  44% (79/179)\u001b[K\rremote: Counting objects:  45% (81/179)\u001b[K\rremote: Counting objects:  46% (83/179)\u001b[K\rremote: Counting objects:  47% (85/179)\u001b[K\rremote: Counting objects:  48% (86/179)\u001b[K\rremote: Counting objects:  49% (88/179)\u001b[K\rremote: Counting objects:  50% (90/179)\u001b[K\rremote: Counting objects:  51% (92/179)\u001b[K\rremote: Counting objects:  52% (94/179)\u001b[K\rremote: Counting objects:  53% (95/179)\u001b[K\rremote: Counting objects:  54% (97/179)\u001b[K\rremote: Counting objects:  55% (99/179)\u001b[K\rremote: Counting objects:  56% (101/179)\u001b[K\rremote: Counting objects:  57% (103/179)\u001b[K\rremote: Counting objects:  58% (104/179)\u001b[K\rremote: Counting objects:  59% (106/179)\u001b[K\rremote: Counting objects:  60% (108/179)\u001b[K\rremote: Counting objects:  61% (110/179)\u001b[K\rremote: Counting objects:  62% (111/179)\u001b[K\rremote: Counting objects:  63% (113/179)\u001b[K\rremote: Counting objects:  64% (115/179)\u001b[K\rremote: Counting objects:  65% (117/179)\u001b[K\rremote: Counting objects:  66% (119/179)\u001b[K\rremote: Counting objects:  67% (120/179)\u001b[K\rremote: Counting objects:  68% (122/179)\u001b[K\rremote: Counting objects:  69% (124/179)\u001b[K\rremote: Counting objects:  70% (126/179)\u001b[K\rremote: Counting objects:  71% (128/179)\u001b[K\rremote: Counting objects:  72% (129/179)\u001b[K\rremote: Counting objects:  73% (131/179)\u001b[K\rremote: Counting objects:  74% (133/179)\u001b[K\rremote: Counting objects:  75% (135/179)\u001b[K\rremote: Counting objects:  76% (137/179)\u001b[K\rremote: Counting objects:  77% (138/179)\u001b[K\rremote: Counting objects:  78% (140/179)\u001b[K\rremote: Counting objects:  79% (142/179)\u001b[K\rremote: Counting objects:  80% (144/179)\u001b[K\rremote: Counting objects:  81% (145/179)\u001b[K\rremote: Counting objects:  82% (147/179)\u001b[K\rremote: Counting objects:  83% (149/179)\u001b[K\rremote: Counting objects:  84% (151/179)\u001b[K\rremote: Counting objects:  85% (153/179)\u001b[K\rremote: Counting objects:  86% (154/179)\u001b[K\rremote: Counting objects:  87% (156/179)\u001b[K\rremote: Counting objects:  88% (158/179)\u001b[K\rremote: Counting objects:  89% (160/179)\u001b[K\rremote: Counting objects:  90% (162/179)\u001b[K\rremote: Counting objects:  91% (163/179)\u001b[K\rremote: Counting objects:  92% (165/179)\u001b[K\rremote: Counting objects:  93% (167/179)\u001b[K\rremote: Counting objects:  94% (169/179)\u001b[K\rremote: Counting objects:  95% (171/179)\u001b[K\rremote: Counting objects:  96% (172/179)\u001b[K\rremote: Counting objects:  97% (174/179)\u001b[K\rremote: Counting objects:  98% (176/179)\u001b[K\rremote: Counting objects:  99% (178/179)\u001b[K\rremote: Counting objects: 100% (179/179)\u001b[K\rremote: Counting objects: 100% (179/179), done.\u001b[K\n",
            "remote: Compressing objects: 100% (103/103), done.\u001b[K\n",
            "remote: Total 179 (delta 73), reused 143 (delta 42), pack-reused 0\u001b[K\n",
            "Receiving objects: 100% (179/179), 217.29 KiB | 14.49 MiB/s, done.\n",
            "Resolving deltas: 100% (73/73), done.\n"
          ]
        }
      ]
    },
    {
      "cell_type": "markdown",
      "source": [
        "**A. Testing your ability on json library**\n",
        "\n",
        "**1.** Read the Json file and print value for key = crew; Json file = https://github.com/bhargav-velisetti/flink_examples/blob/master/data/cruise_ship_schema.json"
      ],
      "metadata": {
        "id": "WJNcNQgbufeF"
      }
    },
    {
      "cell_type": "code",
      "source": [
        "%cd /content/flink_examples/data"
      ],
      "metadata": {
        "colab": {
          "base_uri": "https://localhost:8080/"
        },
        "id": "qlBQbJt2SvP0",
        "outputId": "14b2dc3b-a129-41b7-f8fc-21f2b5674ffb"
      },
      "execution_count": null,
      "outputs": [
        {
          "output_type": "stream",
          "name": "stdout",
          "text": [
            "/content/flink_examples/data\n"
          ]
        }
      ]
    },
    {
      "cell_type": "code",
      "source": [
        "import pandas as pd\n",
        "#file = pd.read_json('cruise_ship_schema.json')"
      ],
      "metadata": {
        "id": "CQ9gLc-fTIdu"
      },
      "execution_count": null,
      "outputs": []
    },
    {
      "cell_type": "code",
      "source": [
        "with open('cruise_ship_schema.json', 'r') as f:\n",
        "  data = json.load(f)\n",
        "  \n",
        "data"
      ],
      "metadata": {
        "colab": {
          "base_uri": "https://localhost:8080/"
        },
        "id": "33i0KkfFTwF_",
        "outputId": "a75f4665-2927-45eb-bbf3-0b3670acebd3"
      },
      "execution_count": null,
      "outputs": [
        {
          "output_type": "execute_result",
          "data": {
            "text/plain": [
              "{'Ship_name': 'STRING',\n",
              " 'Cruise_line': 'STRING',\n",
              " 'Age': 'INTEGER',\n",
              " 'Tonnage': 'FLOAT',\n",
              " 'passengers': 'FLOAT',\n",
              " 'length': 'FLOAT',\n",
              " 'cabins': 'FLOAT',\n",
              " 'passenger_density': 'FLOAT',\n",
              " 'crew': 'FLOAT'}"
            ]
          },
          "metadata": {},
          "execution_count": 24
        }
      ]
    },
    {
      "cell_type": "code",
      "source": [
        "print(data['crew'])"
      ],
      "metadata": {
        "colab": {
          "base_uri": "https://localhost:8080/"
        },
        "id": "b8jM7umcdohH",
        "outputId": "4f83c53b-3c14-466e-e474-34e6e8172345"
      },
      "execution_count": null,
      "outputs": [
        {
          "output_type": "stream",
          "name": "stdout",
          "text": [
            "FLOAT\n"
          ]
        }
      ]
    },
    {
      "cell_type": "markdown",
      "source": [
        "**2.** Read this json file, loop over it and print values for the key = firstName;\n",
        "\n",
        "https://github.com/bhargav-velisetti/apache_beam_examples_java/blob/master/data/sample-data.json\n"
      ],
      "metadata": {
        "id": "-RKK5pzgjyr9"
      }
    },
    {
      "cell_type": "code",
      "source": [
        "data1 = []\n",
        "for line in ('apache_beam_examples_java/data/sample-data.json', 'r'):\n",
        "  data1.append(json.load(line))\n",
        "\n",
        "data1"
      ],
      "metadata": {
        "colab": {
          "base_uri": "https://localhost:8080/",
          "height": 356
        },
        "id": "RemLHmYzUQuH",
        "outputId": "1170134a-e3c2-4bff-caf1-f877318fb09b"
      },
      "execution_count": null,
      "outputs": [
        {
          "output_type": "error",
          "ename": "AttributeError",
          "evalue": "ignored",
          "traceback": [
            "\u001b[0;31m---------------------------------------------------------------------------\u001b[0m",
            "\u001b[0;31mAttributeError\u001b[0m                            Traceback (most recent call last)",
            "\u001b[0;32m<ipython-input-51-a75be2926f1f>\u001b[0m in \u001b[0;36m<module>\u001b[0;34m\u001b[0m\n\u001b[1;32m      1\u001b[0m \u001b[0mdata1\u001b[0m \u001b[0;34m=\u001b[0m \u001b[0;34m[\u001b[0m\u001b[0;34m]\u001b[0m\u001b[0;34m\u001b[0m\u001b[0;34m\u001b[0m\u001b[0m\n\u001b[1;32m      2\u001b[0m \u001b[0;32mfor\u001b[0m \u001b[0mline\u001b[0m \u001b[0;32min\u001b[0m \u001b[0;34m(\u001b[0m\u001b[0;34m'apache_beam_examples_java/data/sample-data.json'\u001b[0m\u001b[0;34m,\u001b[0m \u001b[0;34m'r'\u001b[0m\u001b[0;34m)\u001b[0m\u001b[0;34m:\u001b[0m\u001b[0;34m\u001b[0m\u001b[0;34m\u001b[0m\u001b[0m\n\u001b[0;32m----> 3\u001b[0;31m   \u001b[0mdata1\u001b[0m\u001b[0;34m.\u001b[0m\u001b[0mappend\u001b[0m\u001b[0;34m(\u001b[0m\u001b[0mjson\u001b[0m\u001b[0;34m.\u001b[0m\u001b[0mload\u001b[0m\u001b[0;34m(\u001b[0m\u001b[0mline\u001b[0m\u001b[0;34m)\u001b[0m\u001b[0;34m)\u001b[0m\u001b[0;34m\u001b[0m\u001b[0;34m\u001b[0m\u001b[0m\n\u001b[0m\u001b[1;32m      4\u001b[0m \u001b[0;34m\u001b[0m\u001b[0m\n\u001b[1;32m      5\u001b[0m \u001b[0mdata1\u001b[0m\u001b[0;34m\u001b[0m\u001b[0;34m\u001b[0m\u001b[0m\n",
            "\u001b[0;32m/usr/lib/python3.9/json/__init__.py\u001b[0m in \u001b[0;36mload\u001b[0;34m(fp, cls, object_hook, parse_float, parse_int, parse_constant, object_pairs_hook, **kw)\u001b[0m\n\u001b[1;32m    291\u001b[0m     \u001b[0mkwarg\u001b[0m\u001b[0;34m;\u001b[0m \u001b[0motherwise\u001b[0m\u001b[0;31m \u001b[0m\u001b[0;31m`\u001b[0m\u001b[0;31m`\u001b[0m\u001b[0mJSONDecoder\u001b[0m\u001b[0;31m`\u001b[0m\u001b[0;31m`\u001b[0m \u001b[0;32mis\u001b[0m \u001b[0mused\u001b[0m\u001b[0;34m.\u001b[0m\u001b[0;34m\u001b[0m\u001b[0;34m\u001b[0m\u001b[0m\n\u001b[1;32m    292\u001b[0m     \"\"\"\n\u001b[0;32m--> 293\u001b[0;31m     return loads(fp.read(),\n\u001b[0m\u001b[1;32m    294\u001b[0m         \u001b[0mcls\u001b[0m\u001b[0;34m=\u001b[0m\u001b[0mcls\u001b[0m\u001b[0;34m,\u001b[0m \u001b[0mobject_hook\u001b[0m\u001b[0;34m=\u001b[0m\u001b[0mobject_hook\u001b[0m\u001b[0;34m,\u001b[0m\u001b[0;34m\u001b[0m\u001b[0;34m\u001b[0m\u001b[0m\n\u001b[1;32m    295\u001b[0m         \u001b[0mparse_float\u001b[0m\u001b[0;34m=\u001b[0m\u001b[0mparse_float\u001b[0m\u001b[0;34m,\u001b[0m \u001b[0mparse_int\u001b[0m\u001b[0;34m=\u001b[0m\u001b[0mparse_int\u001b[0m\u001b[0;34m,\u001b[0m\u001b[0;34m\u001b[0m\u001b[0;34m\u001b[0m\u001b[0m\n",
            "\u001b[0;31mAttributeError\u001b[0m: 'str' object has no attribute 'read'"
          ]
        }
      ]
    },
    {
      "cell_type": "code",
      "source": [
        "content = []\n",
        "for line in ('apache_beam_examples_java/data/sample-data.json', 'r'):\n",
        "  print(foobar(line))"
      ],
      "metadata": {
        "colab": {
          "base_uri": "https://localhost:8080/",
          "height": 328
        },
        "id": "Jp41gyKrhT9F",
        "outputId": "7df2cfb9-eba6-4bce-e6f8-8783437d7203"
      },
      "execution_count": null,
      "outputs": [
        {
          "output_type": "error",
          "ename": "JSONDecodeError",
          "evalue": "ignored",
          "traceback": [
            "\u001b[0;31m---------------------------------------------------------------------------\u001b[0m",
            "\u001b[0;31mJSONDecodeError\u001b[0m                           Traceback (most recent call last)",
            "\u001b[0;32m<ipython-input-68-a6dbe55d18a1>\u001b[0m in \u001b[0;36m<module>\u001b[0;34m\u001b[0m\n\u001b[1;32m      1\u001b[0m \u001b[0mcontent\u001b[0m \u001b[0;34m=\u001b[0m \u001b[0;34m[\u001b[0m\u001b[0;34m]\u001b[0m\u001b[0;34m\u001b[0m\u001b[0;34m\u001b[0m\u001b[0m\n\u001b[1;32m      2\u001b[0m \u001b[0;32mfor\u001b[0m \u001b[0mline\u001b[0m \u001b[0;32min\u001b[0m \u001b[0;34m(\u001b[0m\u001b[0;34m'apache_beam_examples_java/data/sample-data.json'\u001b[0m\u001b[0;34m,\u001b[0m \u001b[0;34m'r'\u001b[0m\u001b[0;34m)\u001b[0m\u001b[0;34m:\u001b[0m\u001b[0;34m\u001b[0m\u001b[0;34m\u001b[0m\u001b[0m\n\u001b[0;32m----> 3\u001b[0;31m   \u001b[0mprint\u001b[0m\u001b[0;34m(\u001b[0m\u001b[0mfoobar\u001b[0m\u001b[0;34m(\u001b[0m\u001b[0mline\u001b[0m\u001b[0;34m)\u001b[0m\u001b[0;34m)\u001b[0m\u001b[0;34m\u001b[0m\u001b[0;34m\u001b[0m\u001b[0m\n\u001b[0m",
            "\u001b[0;32m<ipython-input-66-09ed51800e94>\u001b[0m in \u001b[0;36mfoobar\u001b[0;34m(jsonstring)\u001b[0m\n\u001b[1;32m      1\u001b[0m \u001b[0;32mimport\u001b[0m \u001b[0mjson\u001b[0m\u001b[0;34m\u001b[0m\u001b[0;34m\u001b[0m\u001b[0m\n\u001b[1;32m      2\u001b[0m \u001b[0;32mdef\u001b[0m \u001b[0mfoobar\u001b[0m\u001b[0;34m(\u001b[0m\u001b[0mjsonstring\u001b[0m\u001b[0;34m)\u001b[0m\u001b[0;34m:\u001b[0m\u001b[0;34m\u001b[0m\u001b[0;34m\u001b[0m\u001b[0m\n\u001b[0;32m----> 3\u001b[0;31m     \u001b[0mmsg\u001b[0m \u001b[0;34m=\u001b[0m \u001b[0mjson\u001b[0m\u001b[0;34m.\u001b[0m\u001b[0mloads\u001b[0m\u001b[0;34m(\u001b[0m\u001b[0mjsonstring\u001b[0m\u001b[0;34m)\u001b[0m\u001b[0;34m\u001b[0m\u001b[0;34m\u001b[0m\u001b[0m\n\u001b[0m",
            "\u001b[0;32m/usr/lib/python3.9/json/__init__.py\u001b[0m in \u001b[0;36mloads\u001b[0;34m(s, cls, object_hook, parse_float, parse_int, parse_constant, object_pairs_hook, **kw)\u001b[0m\n\u001b[1;32m    344\u001b[0m             \u001b[0mparse_int\u001b[0m \u001b[0;32mis\u001b[0m \u001b[0;32mNone\u001b[0m \u001b[0;32mand\u001b[0m \u001b[0mparse_float\u001b[0m \u001b[0;32mis\u001b[0m \u001b[0;32mNone\u001b[0m \u001b[0;32mand\u001b[0m\u001b[0;34m\u001b[0m\u001b[0;34m\u001b[0m\u001b[0m\n\u001b[1;32m    345\u001b[0m             parse_constant is None and object_pairs_hook is None and not kw):\n\u001b[0;32m--> 346\u001b[0;31m         \u001b[0;32mreturn\u001b[0m \u001b[0m_default_decoder\u001b[0m\u001b[0;34m.\u001b[0m\u001b[0mdecode\u001b[0m\u001b[0;34m(\u001b[0m\u001b[0ms\u001b[0m\u001b[0;34m)\u001b[0m\u001b[0;34m\u001b[0m\u001b[0;34m\u001b[0m\u001b[0m\n\u001b[0m\u001b[1;32m    347\u001b[0m     \u001b[0;32mif\u001b[0m \u001b[0mcls\u001b[0m \u001b[0;32mis\u001b[0m \u001b[0;32mNone\u001b[0m\u001b[0;34m:\u001b[0m\u001b[0;34m\u001b[0m\u001b[0;34m\u001b[0m\u001b[0m\n\u001b[1;32m    348\u001b[0m         \u001b[0mcls\u001b[0m \u001b[0;34m=\u001b[0m \u001b[0mJSONDecoder\u001b[0m\u001b[0;34m\u001b[0m\u001b[0;34m\u001b[0m\u001b[0m\n",
            "\u001b[0;32m/usr/lib/python3.9/json/decoder.py\u001b[0m in \u001b[0;36mdecode\u001b[0;34m(self, s, _w)\u001b[0m\n\u001b[1;32m    335\u001b[0m \u001b[0;34m\u001b[0m\u001b[0m\n\u001b[1;32m    336\u001b[0m         \"\"\"\n\u001b[0;32m--> 337\u001b[0;31m         \u001b[0mobj\u001b[0m\u001b[0;34m,\u001b[0m \u001b[0mend\u001b[0m \u001b[0;34m=\u001b[0m \u001b[0mself\u001b[0m\u001b[0;34m.\u001b[0m\u001b[0mraw_decode\u001b[0m\u001b[0;34m(\u001b[0m\u001b[0ms\u001b[0m\u001b[0;34m,\u001b[0m \u001b[0midx\u001b[0m\u001b[0;34m=\u001b[0m\u001b[0m_w\u001b[0m\u001b[0;34m(\u001b[0m\u001b[0ms\u001b[0m\u001b[0;34m,\u001b[0m \u001b[0;36m0\u001b[0m\u001b[0;34m)\u001b[0m\u001b[0;34m.\u001b[0m\u001b[0mend\u001b[0m\u001b[0;34m(\u001b[0m\u001b[0;34m)\u001b[0m\u001b[0;34m)\u001b[0m\u001b[0;34m\u001b[0m\u001b[0;34m\u001b[0m\u001b[0m\n\u001b[0m\u001b[1;32m    338\u001b[0m         \u001b[0mend\u001b[0m \u001b[0;34m=\u001b[0m \u001b[0m_w\u001b[0m\u001b[0;34m(\u001b[0m\u001b[0ms\u001b[0m\u001b[0;34m,\u001b[0m \u001b[0mend\u001b[0m\u001b[0;34m)\u001b[0m\u001b[0;34m.\u001b[0m\u001b[0mend\u001b[0m\u001b[0;34m(\u001b[0m\u001b[0;34m)\u001b[0m\u001b[0;34m\u001b[0m\u001b[0;34m\u001b[0m\u001b[0m\n\u001b[1;32m    339\u001b[0m         \u001b[0;32mif\u001b[0m \u001b[0mend\u001b[0m \u001b[0;34m!=\u001b[0m \u001b[0mlen\u001b[0m\u001b[0;34m(\u001b[0m\u001b[0ms\u001b[0m\u001b[0;34m)\u001b[0m\u001b[0;34m:\u001b[0m\u001b[0;34m\u001b[0m\u001b[0;34m\u001b[0m\u001b[0m\n",
            "\u001b[0;32m/usr/lib/python3.9/json/decoder.py\u001b[0m in \u001b[0;36mraw_decode\u001b[0;34m(self, s, idx)\u001b[0m\n\u001b[1;32m    353\u001b[0m             \u001b[0mobj\u001b[0m\u001b[0;34m,\u001b[0m \u001b[0mend\u001b[0m \u001b[0;34m=\u001b[0m \u001b[0mself\u001b[0m\u001b[0;34m.\u001b[0m\u001b[0mscan_once\u001b[0m\u001b[0;34m(\u001b[0m\u001b[0ms\u001b[0m\u001b[0;34m,\u001b[0m \u001b[0midx\u001b[0m\u001b[0;34m)\u001b[0m\u001b[0;34m\u001b[0m\u001b[0;34m\u001b[0m\u001b[0m\n\u001b[1;32m    354\u001b[0m         \u001b[0;32mexcept\u001b[0m \u001b[0mStopIteration\u001b[0m \u001b[0;32mas\u001b[0m \u001b[0merr\u001b[0m\u001b[0;34m:\u001b[0m\u001b[0;34m\u001b[0m\u001b[0;34m\u001b[0m\u001b[0m\n\u001b[0;32m--> 355\u001b[0;31m             \u001b[0;32mraise\u001b[0m \u001b[0mJSONDecodeError\u001b[0m\u001b[0;34m(\u001b[0m\u001b[0;34m\"Expecting value\"\u001b[0m\u001b[0;34m,\u001b[0m \u001b[0ms\u001b[0m\u001b[0;34m,\u001b[0m \u001b[0merr\u001b[0m\u001b[0;34m.\u001b[0m\u001b[0mvalue\u001b[0m\u001b[0;34m)\u001b[0m \u001b[0;32mfrom\u001b[0m \u001b[0;32mNone\u001b[0m\u001b[0;34m\u001b[0m\u001b[0;34m\u001b[0m\u001b[0m\n\u001b[0m\u001b[1;32m    356\u001b[0m         \u001b[0;32mreturn\u001b[0m \u001b[0mobj\u001b[0m\u001b[0;34m,\u001b[0m \u001b[0mend\u001b[0m\u001b[0;34m\u001b[0m\u001b[0;34m\u001b[0m\u001b[0m\n",
            "\u001b[0;31mJSONDecodeError\u001b[0m: Expecting value: line 1 column 1 (char 0)"
          ]
        }
      ]
    },
    {
      "cell_type": "code",
      "source": [
        "json_file_path = 'apache_beam_examples_java/data/sample-data.json'\n",
        "\n",
        "with open(json_file_path, 'r') as j:\n",
        "     contents = json.loads(j.read())\n"
      ],
      "metadata": {
        "colab": {
          "base_uri": "https://localhost:8080/",
          "height": 345
        },
        "id": "3Ji3_sQMskd0",
        "outputId": "5e2cda07-7383-4710-92ed-3f66bba1cd08"
      },
      "execution_count": null,
      "outputs": [
        {
          "output_type": "error",
          "ename": "JSONDecodeError",
          "evalue": "ignored",
          "traceback": [
            "\u001b[0;31m---------------------------------------------------------------------------\u001b[0m",
            "\u001b[0;31mJSONDecodeError\u001b[0m                           Traceback (most recent call last)",
            "\u001b[0;32m<ipython-input-71-9d83cbe51fb6>\u001b[0m in \u001b[0;36m<module>\u001b[0;34m\u001b[0m\n\u001b[1;32m      2\u001b[0m \u001b[0;34m\u001b[0m\u001b[0m\n\u001b[1;32m      3\u001b[0m \u001b[0;32mwith\u001b[0m \u001b[0mopen\u001b[0m\u001b[0;34m(\u001b[0m\u001b[0mjson_file_path\u001b[0m\u001b[0;34m,\u001b[0m \u001b[0;34m'r'\u001b[0m\u001b[0;34m)\u001b[0m \u001b[0;32mas\u001b[0m \u001b[0mj\u001b[0m\u001b[0;34m:\u001b[0m\u001b[0;34m\u001b[0m\u001b[0;34m\u001b[0m\u001b[0m\n\u001b[0;32m----> 4\u001b[0;31m      \u001b[0mcontents\u001b[0m \u001b[0;34m=\u001b[0m \u001b[0mjson\u001b[0m\u001b[0;34m.\u001b[0m\u001b[0mloads\u001b[0m\u001b[0;34m(\u001b[0m\u001b[0mj\u001b[0m\u001b[0;34m.\u001b[0m\u001b[0mread\u001b[0m\u001b[0;34m(\u001b[0m\u001b[0;34m)\u001b[0m\u001b[0;34m)\u001b[0m\u001b[0;34m\u001b[0m\u001b[0;34m\u001b[0m\u001b[0m\n\u001b[0m",
            "\u001b[0;32m/usr/lib/python3.9/json/__init__.py\u001b[0m in \u001b[0;36mloads\u001b[0;34m(s, cls, object_hook, parse_float, parse_int, parse_constant, object_pairs_hook, **kw)\u001b[0m\n\u001b[1;32m    344\u001b[0m             \u001b[0mparse_int\u001b[0m \u001b[0;32mis\u001b[0m \u001b[0;32mNone\u001b[0m \u001b[0;32mand\u001b[0m \u001b[0mparse_float\u001b[0m \u001b[0;32mis\u001b[0m \u001b[0;32mNone\u001b[0m \u001b[0;32mand\u001b[0m\u001b[0;34m\u001b[0m\u001b[0;34m\u001b[0m\u001b[0m\n\u001b[1;32m    345\u001b[0m             parse_constant is None and object_pairs_hook is None and not kw):\n\u001b[0;32m--> 346\u001b[0;31m         \u001b[0;32mreturn\u001b[0m \u001b[0m_default_decoder\u001b[0m\u001b[0;34m.\u001b[0m\u001b[0mdecode\u001b[0m\u001b[0;34m(\u001b[0m\u001b[0ms\u001b[0m\u001b[0;34m)\u001b[0m\u001b[0;34m\u001b[0m\u001b[0;34m\u001b[0m\u001b[0m\n\u001b[0m\u001b[1;32m    347\u001b[0m     \u001b[0;32mif\u001b[0m \u001b[0mcls\u001b[0m \u001b[0;32mis\u001b[0m \u001b[0;32mNone\u001b[0m\u001b[0;34m:\u001b[0m\u001b[0;34m\u001b[0m\u001b[0;34m\u001b[0m\u001b[0m\n\u001b[1;32m    348\u001b[0m         \u001b[0mcls\u001b[0m \u001b[0;34m=\u001b[0m \u001b[0mJSONDecoder\u001b[0m\u001b[0;34m\u001b[0m\u001b[0;34m\u001b[0m\u001b[0m\n",
            "\u001b[0;32m/usr/lib/python3.9/json/decoder.py\u001b[0m in \u001b[0;36mdecode\u001b[0;34m(self, s, _w)\u001b[0m\n\u001b[1;32m    338\u001b[0m         \u001b[0mend\u001b[0m \u001b[0;34m=\u001b[0m \u001b[0m_w\u001b[0m\u001b[0;34m(\u001b[0m\u001b[0ms\u001b[0m\u001b[0;34m,\u001b[0m \u001b[0mend\u001b[0m\u001b[0;34m)\u001b[0m\u001b[0;34m.\u001b[0m\u001b[0mend\u001b[0m\u001b[0;34m(\u001b[0m\u001b[0;34m)\u001b[0m\u001b[0;34m\u001b[0m\u001b[0;34m\u001b[0m\u001b[0m\n\u001b[1;32m    339\u001b[0m         \u001b[0;32mif\u001b[0m \u001b[0mend\u001b[0m \u001b[0;34m!=\u001b[0m \u001b[0mlen\u001b[0m\u001b[0;34m(\u001b[0m\u001b[0ms\u001b[0m\u001b[0;34m)\u001b[0m\u001b[0;34m:\u001b[0m\u001b[0;34m\u001b[0m\u001b[0;34m\u001b[0m\u001b[0m\n\u001b[0;32m--> 340\u001b[0;31m             \u001b[0;32mraise\u001b[0m \u001b[0mJSONDecodeError\u001b[0m\u001b[0;34m(\u001b[0m\u001b[0;34m\"Extra data\"\u001b[0m\u001b[0;34m,\u001b[0m \u001b[0ms\u001b[0m\u001b[0;34m,\u001b[0m \u001b[0mend\u001b[0m\u001b[0;34m)\u001b[0m\u001b[0;34m\u001b[0m\u001b[0;34m\u001b[0m\u001b[0m\n\u001b[0m\u001b[1;32m    341\u001b[0m         \u001b[0;32mreturn\u001b[0m \u001b[0mobj\u001b[0m\u001b[0;34m\u001b[0m\u001b[0;34m\u001b[0m\u001b[0m\n\u001b[1;32m    342\u001b[0m \u001b[0;34m\u001b[0m\u001b[0m\n",
            "\u001b[0;31mJSONDecodeError\u001b[0m: Extra data: line 2 column 1 (char 211)"
          ]
        }
      ]
    },
    {
      "cell_type": "code",
      "source": [
        "import json\n",
        "def foobar(jsonstring):\n",
        "    msg = json.loads(jsonstring)"
      ],
      "metadata": {
        "id": "AjKb_kJksP3Q"
      },
      "execution_count": null,
      "outputs": []
    },
    {
      "cell_type": "code",
      "source": [
        "import ast\n",
        "res = ast.literal_eval(test_string)"
      ],
      "metadata": {
        "id": "rbKqHnNrrtt4"
      },
      "execution_count": null,
      "outputs": []
    },
    {
      "cell_type": "code",
      "source": [
        "import json\n",
        "import urllib.request\n",
        "\n",
        "url = \"https://raw.githubusercontent.com/bhargav-velisetti/apache_beam_examples_java/master/data/sample-data.json\"\n",
        "\n",
        "with urllib.request.urlopen(url) as response:\n",
        "    data = json.loads(response.read().decode())\n",
        "\n",
        "for item in data:\n",
        "    print(item[\"firstName\"])"
      ],
      "metadata": {
        "id": "ox6muGTLecPp",
        "colab": {
          "base_uri": "https://localhost:8080/",
          "height": 380
        },
        "outputId": "88053138-22e5-48b5-84fb-c693404d410e"
      },
      "execution_count": null,
      "outputs": [
        {
          "output_type": "error",
          "ename": "JSONDecodeError",
          "evalue": "ignored",
          "traceback": [
            "\u001b[0;31m---------------------------------------------------------------------------\u001b[0m",
            "\u001b[0;31mJSONDecodeError\u001b[0m                           Traceback (most recent call last)",
            "\u001b[0;32m<ipython-input-1-92861abb06b8>\u001b[0m in \u001b[0;36m<module>\u001b[0;34m\u001b[0m\n\u001b[1;32m      5\u001b[0m \u001b[0;34m\u001b[0m\u001b[0m\n\u001b[1;32m      6\u001b[0m \u001b[0;32mwith\u001b[0m \u001b[0murllib\u001b[0m\u001b[0;34m.\u001b[0m\u001b[0mrequest\u001b[0m\u001b[0;34m.\u001b[0m\u001b[0murlopen\u001b[0m\u001b[0;34m(\u001b[0m\u001b[0murl\u001b[0m\u001b[0;34m)\u001b[0m \u001b[0;32mas\u001b[0m \u001b[0mresponse\u001b[0m\u001b[0;34m:\u001b[0m\u001b[0;34m\u001b[0m\u001b[0;34m\u001b[0m\u001b[0m\n\u001b[0;32m----> 7\u001b[0;31m     \u001b[0mdata\u001b[0m \u001b[0;34m=\u001b[0m \u001b[0mjson\u001b[0m\u001b[0;34m.\u001b[0m\u001b[0mloads\u001b[0m\u001b[0;34m(\u001b[0m\u001b[0mresponse\u001b[0m\u001b[0;34m.\u001b[0m\u001b[0mread\u001b[0m\u001b[0;34m(\u001b[0m\u001b[0;34m)\u001b[0m\u001b[0;34m.\u001b[0m\u001b[0mdecode\u001b[0m\u001b[0;34m(\u001b[0m\u001b[0;34m)\u001b[0m\u001b[0;34m)\u001b[0m\u001b[0;34m\u001b[0m\u001b[0;34m\u001b[0m\u001b[0m\n\u001b[0m\u001b[1;32m      8\u001b[0m \u001b[0;34m\u001b[0m\u001b[0m\n\u001b[1;32m      9\u001b[0m \u001b[0;32mfor\u001b[0m \u001b[0mitem\u001b[0m \u001b[0;32min\u001b[0m \u001b[0mdata\u001b[0m\u001b[0;34m:\u001b[0m\u001b[0;34m\u001b[0m\u001b[0;34m\u001b[0m\u001b[0m\n",
            "\u001b[0;32m/usr/lib/python3.9/json/__init__.py\u001b[0m in \u001b[0;36mloads\u001b[0;34m(s, cls, object_hook, parse_float, parse_int, parse_constant, object_pairs_hook, **kw)\u001b[0m\n\u001b[1;32m    344\u001b[0m             \u001b[0mparse_int\u001b[0m \u001b[0;32mis\u001b[0m \u001b[0;32mNone\u001b[0m \u001b[0;32mand\u001b[0m \u001b[0mparse_float\u001b[0m \u001b[0;32mis\u001b[0m \u001b[0;32mNone\u001b[0m \u001b[0;32mand\u001b[0m\u001b[0;34m\u001b[0m\u001b[0;34m\u001b[0m\u001b[0m\n\u001b[1;32m    345\u001b[0m             parse_constant is None and object_pairs_hook is None and not kw):\n\u001b[0;32m--> 346\u001b[0;31m         \u001b[0;32mreturn\u001b[0m \u001b[0m_default_decoder\u001b[0m\u001b[0;34m.\u001b[0m\u001b[0mdecode\u001b[0m\u001b[0;34m(\u001b[0m\u001b[0ms\u001b[0m\u001b[0;34m)\u001b[0m\u001b[0;34m\u001b[0m\u001b[0;34m\u001b[0m\u001b[0m\n\u001b[0m\u001b[1;32m    347\u001b[0m     \u001b[0;32mif\u001b[0m \u001b[0mcls\u001b[0m \u001b[0;32mis\u001b[0m \u001b[0;32mNone\u001b[0m\u001b[0;34m:\u001b[0m\u001b[0;34m\u001b[0m\u001b[0;34m\u001b[0m\u001b[0m\n\u001b[1;32m    348\u001b[0m         \u001b[0mcls\u001b[0m \u001b[0;34m=\u001b[0m \u001b[0mJSONDecoder\u001b[0m\u001b[0;34m\u001b[0m\u001b[0;34m\u001b[0m\u001b[0m\n",
            "\u001b[0;32m/usr/lib/python3.9/json/decoder.py\u001b[0m in \u001b[0;36mdecode\u001b[0;34m(self, s, _w)\u001b[0m\n\u001b[1;32m    338\u001b[0m         \u001b[0mend\u001b[0m \u001b[0;34m=\u001b[0m \u001b[0m_w\u001b[0m\u001b[0;34m(\u001b[0m\u001b[0ms\u001b[0m\u001b[0;34m,\u001b[0m \u001b[0mend\u001b[0m\u001b[0;34m)\u001b[0m\u001b[0;34m.\u001b[0m\u001b[0mend\u001b[0m\u001b[0;34m(\u001b[0m\u001b[0;34m)\u001b[0m\u001b[0;34m\u001b[0m\u001b[0;34m\u001b[0m\u001b[0m\n\u001b[1;32m    339\u001b[0m         \u001b[0;32mif\u001b[0m \u001b[0mend\u001b[0m \u001b[0;34m!=\u001b[0m \u001b[0mlen\u001b[0m\u001b[0;34m(\u001b[0m\u001b[0ms\u001b[0m\u001b[0;34m)\u001b[0m\u001b[0;34m:\u001b[0m\u001b[0;34m\u001b[0m\u001b[0;34m\u001b[0m\u001b[0m\n\u001b[0;32m--> 340\u001b[0;31m             \u001b[0;32mraise\u001b[0m \u001b[0mJSONDecodeError\u001b[0m\u001b[0;34m(\u001b[0m\u001b[0;34m\"Extra data\"\u001b[0m\u001b[0;34m,\u001b[0m \u001b[0ms\u001b[0m\u001b[0;34m,\u001b[0m \u001b[0mend\u001b[0m\u001b[0;34m)\u001b[0m\u001b[0;34m\u001b[0m\u001b[0;34m\u001b[0m\u001b[0m\n\u001b[0m\u001b[1;32m    341\u001b[0m         \u001b[0;32mreturn\u001b[0m \u001b[0mobj\u001b[0m\u001b[0;34m\u001b[0m\u001b[0;34m\u001b[0m\u001b[0m\n\u001b[1;32m    342\u001b[0m \u001b[0;34m\u001b[0m\u001b[0m\n",
            "\u001b[0;31mJSONDecodeError\u001b[0m: Extra data: line 2 column 1 (char 211)"
          ]
        }
      ]
    },
    {
      "cell_type": "code",
      "source": [
        "import json\n",
        "import urllib.request\n",
        "\n",
        "url = \"https://raw.githubusercontent.com/bhargav-velisetti/apache_beam_examples_java/master/data/sample-data.json\"\n",
        "\n",
        "with urllib.request.urlopen(url) as response:\n",
        "    data = json.loads(response.read().decode())\n",
        "\n",
        "for item in data:\n",
        "    print(item[\"firstName\"])"
      ],
      "metadata": {
        "id": "mJF680KkZRgx"
      },
      "execution_count": null,
      "outputs": []
    },
    {
      "cell_type": "code",
      "source": [
        "#Print the list ist_a:\n",
        "ist_a = [0, 1, 2, 3, 4, 5, 6]\n",
        "print(ist_a)\n",
        "\n",
        "\n",
        "#Print the first three elements of the list:\n",
        "ist_a = [0, 1, 2, 3, 4, 5, 6]\n",
        "print(ist_a[:3])\n",
        "\n",
        "\n",
        "#Print the 5th element of the list:\n",
        "ist_a = [0, 1, 2, 3, 4, 5, 6]\n",
        "print(ist_a[4])\n",
        "\n",
        "#Print the last three elements of the list:\n",
        "ist_a = [0, 1, 2, 3, 4, 5, 6]\n",
        "print(ist_a[-3:])\n",
        "\n",
        "\n",
        "#Print the length of the list:\n",
        "ist_a = [0, 1, 2, 3, 4, 5, 6]\n",
        "print(len(ist_a))\n",
        "\n",
        "#Print the keys of the dictionary dict_a:\n",
        "dict_a = {'a': 1, 'b': 2}\n",
        "print(dict_a.keys())\n",
        "\n",
        "\n",
        "#Print the values of the dictionary dict_a:\n",
        "dict_a = {'a': 1, 'b': 2}\n",
        "print(dict_a.values())\n",
        "\n",
        "\n",
        "#Print the value of the key 'b' in the dictionary dict_a:\n",
        "dict_a = {'a': 1, 'b': 2}\n",
        "print(dict_a['b'])\n"
      ],
      "metadata": {
        "colab": {
          "base_uri": "https://localhost:8080/"
        },
        "id": "7TWEgGnHnW3Y",
        "outputId": "9af34102-c50a-4e36-a848-e235a869ddeb"
      },
      "execution_count": null,
      "outputs": [
        {
          "output_type": "stream",
          "name": "stdout",
          "text": [
            "[0, 1, 2, 3, 4, 5, 6]\n",
            "[0, 1, 2]\n",
            "4\n",
            "[4, 5, 6]\n",
            "7\n",
            "dict_keys(['a', 'b'])\n",
            "dict_values([1, 2])\n",
            "2\n"
          ]
        }
      ]
    },
    {
      "cell_type": "markdown",
      "source": [
        "Configparser 1"
      ],
      "metadata": {
        "id": "j2VnxwZJwJle"
      }
    },
    {
      "cell_type": "code",
      "source": [
        "import configparser\n",
        "\n",
        "# create a new ConfigParser object\n",
        "config = configparser.ConfigParser()\n",
        "\n",
        "# add some users and their financial information to the config\n",
        "config['user1'] = {'account_number': '1234567890',\n",
        "                   'balance': '5000.00'}\n",
        "\n",
        "config['user2'] = {'account_number': '0987654321',\n",
        "                   'balance': '2500.00'}\n",
        "\n",
        "# write the config to a file\n",
        "with open('financial_data.ini', 'w') as configfile:\n",
        "    config.write(configfile)\n",
        "\n",
        "# read the config from the file\n",
        "config.read('financial_data.ini')\n",
        "\n",
        "# get a user's account number and balance\n",
        "account_number = config['user1']['account_number']\n",
        "balance = float(config['user1']['balance'])\n",
        "print(f'User 1 has an account with number {account_number} and a balance of ${balance:.2f}.')\n",
        "\n",
        "# get all the users and their balances\n",
        "print('All users and their balances:')\n",
        "for user in config.sections():\n",
        "    balance = float(config[user]['balance'])\n",
        "    print(f'{user}: ${balance:.2f}')\n"
      ],
      "metadata": {
        "id": "pCMkwNhloPhY",
        "colab": {
          "base_uri": "https://localhost:8080/"
        },
        "outputId": "c8660e80-eced-4ce1-91b0-739791acc290"
      },
      "execution_count": 20,
      "outputs": [
        {
          "output_type": "stream",
          "name": "stdout",
          "text": [
            "User 1 has an account with number 1234567890 and a balance of $5000.00.\n",
            "All users and their balances:\n",
            "user1: $5000.00\n",
            "user2: $2500.00\n"
          ]
        }
      ]
    },
    {
      "cell_type": "markdown",
      "source": [
        "Configparser 2"
      ],
      "metadata": {
        "id": "nh7I5UNRwE7S"
      }
    },
    {
      "cell_type": "code",
      "source": [
        "import configparser\n",
        "\n",
        "# create a new ConfigParser object\n",
        "config = configparser.ConfigParser()\n",
        "\n",
        "# add some VC firms and their investments to the config\n",
        "config['A16Z'] = {'investment1': 'Slack',\n",
        "                  'investment2': 'GitHub',\n",
        "                  'investment3': 'Robinhood'}\n",
        "\n",
        "config['KleinerPerkins'] = {'investment1': 'Twitter',\n",
        "                            'investment2': 'Uber',\n",
        "                            'investment3': 'Nest'}\n",
        "\n",
        "# write the config to a file\n",
        "with open('vc_data.ini', 'w') as configfile:\n",
        "    config.write(configfile)\n",
        "\n",
        "# read the config from the file\n",
        "config.read('vc_data.ini')\n",
        "\n",
        "# get a VC firm's investments\n",
        "a16z_investments = [config['A16Z'][key] for key in config['A16Z']]\n",
        "kp_investments = [config['KleinerPerkins'][key] for key in config['KleinerPerkins']]\n",
        "print(f'A16Z has invested in: {\", \".join(a16z_investments)}.')\n",
        "print(f'Kleiner Perkins has invested in: {\", \".join(kp_investments)}.')\n",
        "\n",
        "# get all the VC firms and their investments\n",
        "print('All VC firms and their investments:')\n",
        "for firm in config.sections():\n",
        "    investments = [config[firm][key] for key in config[firm]]\n",
        "    print(f'{firm}: {\", \".join(investments)}')"
      ],
      "metadata": {
        "colab": {
          "base_uri": "https://localhost:8080/"
        },
        "id": "N1SyJK6Mvcss",
        "outputId": "c682d63a-8c2a-4de1-f402-a0717779ac79"
      },
      "execution_count": 21,
      "outputs": [
        {
          "output_type": "stream",
          "name": "stdout",
          "text": [
            "A16Z has invested in: Slack, GitHub, Robinhood.\n",
            "Kleiner Perkins has invested in: Twitter, Uber, Nest.\n",
            "All VC firms and their investments:\n",
            "A16Z: Slack, GitHub, Robinhood\n",
            "KleinerPerkins: Twitter, Uber, Nest\n"
          ]
        }
      ]
    }
  ]
}